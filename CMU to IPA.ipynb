{
 "cells": [
  {
   "cell_type": "markdown",
   "metadata": {},
   "source": [
    "**Eric Meinhardt / emeinhardt@ucsd.edu**"
   ]
  },
  {
   "cell_type": "code",
   "execution_count": 1,
   "metadata": {
    "ExecuteTime": {
     "end_time": "2019-03-21T21:09:31.720304Z",
     "start_time": "2019-03-21T21:09:31.717142Z"
    }
   },
   "outputs": [],
   "source": [
    "#Prints **all** console output, not just last item in cell \n",
    "from IPython.core.interactiveshell import InteractiveShell\n",
    "InteractiveShell.ast_node_interactivity = \"all\""
   ]
  },
  {
   "cell_type": "markdown",
   "metadata": {},
   "source": [
    "# Reading the CMU dict in"
   ]
  },
  {
   "cell_type": "code",
   "execution_count": 2,
   "metadata": {
    "ExecuteTime": {
     "end_time": "2019-03-21T21:09:31.750564Z",
     "start_time": "2019-03-21T21:09:31.725703Z"
    }
   },
   "outputs": [],
   "source": [
    "import csv"
   ]
  },
  {
   "cell_type": "markdown",
   "metadata": {},
   "source": [
    "CMU pronouncing dictionary v0.7b obtained from `http://svn.code.sf.net/p/cmusphinx/code/trunk/cmudict/cmudict-0.7b`"
   ]
  },
  {
   "cell_type": "code",
   "execution_count": 3,
   "metadata": {
    "ExecuteTime": {
     "end_time": "2019-03-21T21:09:31.864774Z",
     "start_time": "2019-03-21T21:09:31.752640Z"
    }
   },
   "outputs": [
    {
     "name": "stdout",
     "output_type": "stream",
     "text": [
      " cmudict-0.7b   cmudict-0.7b.tsv  'CMU to IPA.ipynb'\r\n"
     ]
    }
   ],
   "source": [
    "%ls"
   ]
  },
  {
   "cell_type": "code",
   "execution_count": 4,
   "metadata": {
    "ExecuteTime": {
     "end_time": "2019-03-21T21:09:31.955384Z",
     "start_time": "2019-03-21T21:09:31.867396Z"
    }
   },
   "outputs": [],
   "source": [
    "cmudict_raw_filename = 'cmudict-0.7b'\n",
    "\n",
    "cmudict_raw = []\n",
    "with open(cmudict_raw_filename, 'r', encoding='latin-1') as the_file:\n",
    "    for row in the_file:\n",
    "        cmudict_raw.append(row.rstrip('\\n'))#(row.rstrip('\\r\\n'))"
   ]
  },
  {
   "cell_type": "code",
   "execution_count": 5,
   "metadata": {
    "ExecuteTime": {
     "end_time": "2019-03-21T21:09:32.070261Z",
     "start_time": "2019-03-21T21:09:31.957208Z"
    }
   },
   "outputs": [
    {
     "name": "stdout",
     "output_type": "stream",
     "text": [
      "     1\t;;; # CMUdict  --  Major Version: 0.07\r\n",
      "     2\t;;; \r\n",
      "     3\t;;; # $HeadURL$\r\n",
      "     4\t;;; # $Date::                                                   $:\r\n",
      "     5\t;;; # $Id::                                                     $:\r\n",
      "     6\t;;; # $Rev::                                                    $: \r\n",
      "     7\t;;; # $Author::                                                 $:\r\n",
      "     8\t;;;\r\n",
      "     9\t;;; #\r\n",
      "    10\t;;; # ========================================================================\r\n",
      "    11\t;;; # Copyright (C) 1993-2015 Carnegie Mellon University. All rights reserved.\r\n",
      "    12\t;;; #\r\n",
      "    13\t;;; # Redistribution and use in source and binary forms, with or without\r\n",
      "    14\t;;; # modification, are permitted provided that the following conditions\r\n",
      "    15\t;;; # are met:\r\n",
      "    16\t;;; #\r\n",
      "    17\t;;; # 1. Redistributions of source code must retain the above copyright\r\n",
      "    18\t;;; #    notice, this list of conditions and the following disclaimer.\r\n",
      "    19\t;;; #    The contents of this file are deemed to be source code.\r\n",
      "    20\t;;; #\r\n",
      "    21\t;;; # 2. Redistributions in binary form must reproduce the above copyright\r\n",
      "    22\t;;; #    notice, this list of conditions and the following disclaimer in\r\n",
      "    23\t;;; #    the documentation and/or other materials provided with the\r\n",
      "    24\t;;; #    distribution.\r\n",
      "    25\t;;; #\r\n",
      "    26\t;;; # This work was supported in part by funding from the Defense Advanced\r\n",
      "    27\t;;; # Research Projects Agency, the Office of Naval Research and the National\r\n",
      "    28\t;;; # Science Foundation of the United States of America, and by member\r\n",
      "    29\t;;; # companies of the Carnegie Mellon Sphinx Speech Consortium. We acknowledge\r\n",
      "    30\t;;; # the contributions of many volunteers to the expansion and improvement of\r\n",
      "    31\t;;; # this dictionary.\r\n",
      "    32\t;;; #\r\n",
      "    33\t;;; # THIS SOFTWARE IS PROVIDED BY CARNEGIE MELLON UNIVERSITY ``AS IS'' AND\r\n",
      "    34\t;;; # ANY EXPRESSED OR IMPLIED WARRANTIES, INCLUDING, BUT NOT LIMITED TO,\r\n",
      "    35\t;;; # THE IMPLIED WARRANTIES OF MERCHANTABILITY AND FITNESS FOR A PARTICULAR\r\n",
      "    36\t;;; # PURPOSE ARE DISCLAIMED.  IN NO EVENT SHALL CARNEGIE MELLON UNIVERSITY\r\n",
      "    37\t;;; # NOR ITS EMPLOYEES BE LIABLE FOR ANY DIRECT, INDIRECT, INCIDENTAL,\r\n",
      "    38\t;;; # SPECIAL, EXEMPLARY, OR CONSEQUENTIAL DAMAGES (INCLUDING, BUT NOT\r\n",
      "    39\t;;; # LIMITED TO, PROCUREMENT OF SUBSTITUTE GOODS OR SERVICES; LOSS OF USE,\r\n",
      "    40\t;;; # DATA, OR PROFITS; OR BUSINESS INTERRUPTION) HOWEVER CAUSED AND ON ANY\r\n",
      "    41\t;;; # THEORY OF LIABILITY, WHETHER IN CONTRACT, STRICT LIABILITY, OR TORT\r\n",
      "    42\t;;; # (INCLUDING NEGLIGENCE OR OTHERWISE) ARISING IN ANY WAY OUT OF THE USE\r\n",
      "    43\t;;; # OF THIS SOFTWARE, EVEN IF ADVISED OF THE POSSIBILITY OF SUCH DAMAGE.\r\n",
      "    44\t;;; #\r\n",
      "    45\t;;; # ========================================================================\r\n",
      "    46\t;;; #\r\n",
      "    47\t;;;\r\n",
      "    48\t;;;  NOTES  ;;;;;;;;;;;;;;;;;;;;;;;;;;;;;;;;;;;;;;;;;;;;;;;;;;;;;;;;;;;;;;;;\r\n",
      "    49\t;;; \r\n",
      "    50\t;;;  [20080401] (air)  New dict file format introduced \r\n",
      "    51\t;;;   - comments (like this section) are allowed\r\n",
      "    52\t;;;   - file name is major version; vers/rev information is now in the header\r\n",
      "    53\t;;;\r\n",
      "    54\t;;; \r\n",
      "    55\t;;; ;;;;;;;;;;;;;;;;;;;;;;;;;;;;;;;;;;;;;;;;;;;;;;;;;;;\r\n",
      "    56\t;;; \r\n",
      "    57\t!EXCLAMATION-POINT  EH2 K S K L AH0 M EY1 SH AH0 N P OY2 N T\r\n",
      "    58\t\"CLOSE-QUOTE  K L OW1 Z K W OW1 T\r\n",
      "    59\t\"DOUBLE-QUOTE  D AH1 B AH0 L K W OW1 T\r\n",
      "    60\t\"END-OF-QUOTE  EH1 N D AH0 V K W OW1 T\r\n",
      "cat: write error: Broken pipe\r\n"
     ]
    }
   ],
   "source": [
    "%cat -n cmudict-0.7b | head -60"
   ]
  },
  {
   "cell_type": "code",
   "execution_count": 6,
   "metadata": {
    "ExecuteTime": {
     "end_time": "2019-03-21T21:09:32.083480Z",
     "start_time": "2019-03-21T21:09:32.072527Z"
    }
   },
   "outputs": [
    {
     "data": {
      "text/plain": [
       "';;; # CMUdict  --  Major Version: 0.07'"
      ]
     },
     "execution_count": 6,
     "metadata": {},
     "output_type": "execute_result"
    },
    {
     "data": {
      "text/plain": [
       "';;; '"
      ]
     },
     "execution_count": 6,
     "metadata": {},
     "output_type": "execute_result"
    },
    {
     "data": {
      "text/plain": [
       "'!EXCLAMATION-POINT  EH2 K S K L AH0 M EY1 SH AH0 N P OY2 N T'"
      ]
     },
     "execution_count": 6,
     "metadata": {},
     "output_type": "execute_result"
    }
   ],
   "source": [
    "cmudict_raw[0] #header...\n",
    "cmudict_raw[55] #end header\n",
    "cmudict_raw[56]"
   ]
  },
  {
   "cell_type": "code",
   "execution_count": 7,
   "metadata": {
    "ExecuteTime": {
     "end_time": "2019-03-21T21:09:32.093764Z",
     "start_time": "2019-03-21T21:09:32.084764Z"
    }
   },
   "outputs": [
    {
     "data": {
      "text/plain": [
       "'!EXCLAMATION-POINT  EH2 K S K L AH0 M EY1 SH AH0 N P OY2 N T'"
      ]
     },
     "execution_count": 7,
     "metadata": {},
     "output_type": "execute_result"
    },
    {
     "data": {
      "text/plain": [
       "'ALBINIA  AA0 L B IY1 N IY0 AH0'"
      ]
     },
     "execution_count": 7,
     "metadata": {},
     "output_type": "execute_result"
    }
   ],
   "source": [
    "cmudict_entry_lines = cmudict_raw[56:]\n",
    "cmudict_entry_lines[0]\n",
    "cmudict_entry_lines[2434]"
   ]
  },
  {
   "cell_type": "markdown",
   "metadata": {},
   "source": [
    "# Convert to tsv"
   ]
  },
  {
   "cell_type": "markdown",
   "metadata": {},
   "source": [
    "Each entry line is split by a double space..."
   ]
  },
  {
   "cell_type": "code",
   "execution_count": 8,
   "metadata": {
    "ExecuteTime": {
     "end_time": "2019-03-21T21:09:32.099762Z",
     "start_time": "2019-03-21T21:09:32.095236Z"
    }
   },
   "outputs": [
    {
     "data": {
      "text/plain": [
       "['\"IN-QUOTES', 'IH1 N K W OW1 T S']"
      ]
     },
     "execution_count": 8,
     "metadata": {},
     "output_type": "execute_result"
    },
    {
     "data": {
      "text/plain": [
       "['ALBINIA', 'AA0 L B IY1 N IY0 AH0']"
      ]
     },
     "execution_count": 8,
     "metadata": {},
     "output_type": "execute_result"
    },
    {
     "data": {
      "text/plain": [
       "['PATRICOF', 'P AE1 T R IH0 K AO2 F']"
      ]
     },
     "execution_count": 8,
     "metadata": {},
     "output_type": "execute_result"
    }
   ],
   "source": [
    "cmudict_entry_lines[5].split('  ')\n",
    "cmudict_entry_lines[2434].split('  ')\n",
    "cmudict_entry_lines[89347].split('  ')"
   ]
  },
  {
   "cell_type": "code",
   "execution_count": 9,
   "metadata": {
    "ExecuteTime": {
     "end_time": "2019-03-21T21:09:32.193467Z",
     "start_time": "2019-03-21T21:09:32.100927Z"
    }
   },
   "outputs": [
    {
     "data": {
      "text/plain": [
       "[['!EXCLAMATION-POINT', 'EH2 K S K L AH0 M EY1 SH AH0 N P OY2 N T'],\n",
       " ['\"CLOSE-QUOTE', 'K L OW1 Z K W OW1 T'],\n",
       " ['\"DOUBLE-QUOTE', 'D AH1 B AH0 L K W OW1 T'],\n",
       " ['\"END-OF-QUOTE', 'EH1 N D AH0 V K W OW1 T'],\n",
       " ['\"END-QUOTE', 'EH1 N D K W OW1 T'],\n",
       " ['\"IN-QUOTES', 'IH1 N K W OW1 T S'],\n",
       " ['\"QUOTE', 'K W OW1 T'],\n",
       " ['\"UNQUOTE', 'AH1 N K W OW1 T'],\n",
       " ['#HASH-MARK', 'HH AE1 M AA2 R K'],\n",
       " ['#POUND-SIGN', 'P AW1 N D S AY2 N']]"
      ]
     },
     "execution_count": 9,
     "metadata": {},
     "output_type": "execute_result"
    }
   ],
   "source": [
    "tab_separated_cmudict_lines = [entry.split('  ') for entry in cmudict_entry_lines]\n",
    "tab_separated_cmudict_lines[:10]"
   ]
  },
  {
   "cell_type": "code",
   "execution_count": 10,
   "metadata": {
    "ExecuteTime": {
     "end_time": "2019-03-21T21:09:32.272361Z",
     "start_time": "2019-03-21T21:09:32.195436Z"
    }
   },
   "outputs": [],
   "source": [
    "cmudict = list(map(lambda tscdl: {'Orthography':tscdl[0],\n",
    "                                  'Transcription':tscdl[1]},\n",
    "                   tab_separated_cmudict_lines))"
   ]
  },
  {
   "cell_type": "code",
   "execution_count": 11,
   "metadata": {
    "ExecuteTime": {
     "end_time": "2019-03-21T21:09:32.275631Z",
     "start_time": "2019-03-21T21:09:32.273829Z"
    }
   },
   "outputs": [],
   "source": [
    "from csv import DictWriter"
   ]
  },
  {
   "cell_type": "code",
   "execution_count": 12,
   "metadata": {
    "ExecuteTime": {
     "end_time": "2019-03-21T21:09:32.651190Z",
     "start_time": "2019-03-21T21:09:32.276484Z"
    }
   },
   "outputs": [],
   "source": [
    "cmudict_tsv_fn = 'cmudict-0.7b.tsv'\n",
    "\n",
    "with open(cmudict_tsv_fn, 'w', newline='\\n') as dl:\n",
    "    fieldnames = ['Orthography', 'Transcription']\n",
    "    writer = csv.DictWriter(dl, fieldnames=fieldnames, delimiter='\\t', quoting=csv.QUOTE_NONE, quotechar='@')\n",
    "    writer.writeheader()\n",
    "    for entry in cmudict:\n",
    "        _ = writer.writerow(entry) #assignment suppresses return value (= number of characters, iirc?)"
   ]
  },
  {
   "cell_type": "markdown",
   "metadata": {},
   "source": [
    "# Convert wordform representations to dotted strings"
   ]
  },
  {
   "cell_type": "code",
   "execution_count": 13,
   "metadata": {
    "ExecuteTime": {
     "end_time": "2019-03-21T21:15:07.315025Z",
     "start_time": "2019-03-21T21:15:07.311665Z"
    }
   },
   "outputs": [],
   "source": [
    "def modify_dict(the_dict, the_key, the_new_value):\n",
    "    '''\n",
    "    Composable and (naively-implemented) non-mutating dictionary update.\n",
    "    '''\n",
    "    new_dict = {k:the_dict[k] for k in the_dict}\n",
    "    new_dict.update({the_key: the_new_value})\n",
    "    return new_dict"
   ]
  },
  {
   "cell_type": "code",
   "execution_count": 23,
   "metadata": {
    "ExecuteTime": {
     "end_time": "2019-03-21T21:22:14.100274Z",
     "start_time": "2019-03-21T21:22:14.095219Z"
    }
   },
   "outputs": [
    {
     "data": {
      "text/plain": [
       "['AH1', 'N', 'K', 'W', 'OW1', 'T']"
      ]
     },
     "execution_count": 23,
     "metadata": {},
     "output_type": "execute_result"
    },
    {
     "data": {
      "text/plain": [
       "'AH1.N.K.W.OW1.T'"
      ]
     },
     "execution_count": 23,
     "metadata": {},
     "output_type": "execute_result"
    }
   ],
   "source": [
    "'AH1 N K W OW1 T'.split(' ')\n",
    "'.'.join('AH1 N K W OW1 T'.split(' '))"
   ]
  },
  {
   "cell_type": "code",
   "execution_count": 24,
   "metadata": {
    "ExecuteTime": {
     "end_time": "2019-03-21T21:22:34.233957Z",
     "start_time": "2019-03-21T21:22:34.041299Z"
    }
   },
   "outputs": [
    {
     "data": {
      "text/plain": [
       "[{'Orthography': '!EXCLAMATION-POINT',\n",
       "  'Transcription': 'EH2.K.S.K.L.AH0.M.EY1.SH.AH0.N.P.OY2.N.T'},\n",
       " {'Orthography': '\"CLOSE-QUOTE', 'Transcription': 'K.L.OW1.Z.K.W.OW1.T'},\n",
       " {'Orthography': '\"DOUBLE-QUOTE', 'Transcription': 'D.AH1.B.AH0.L.K.W.OW1.T'},\n",
       " {'Orthography': '\"END-OF-QUOTE', 'Transcription': 'EH1.N.D.AH0.V.K.W.OW1.T'},\n",
       " {'Orthography': '\"END-QUOTE', 'Transcription': 'EH1.N.D.K.W.OW1.T'}]"
      ]
     },
     "execution_count": 24,
     "metadata": {},
     "output_type": "execute_result"
    }
   ],
   "source": [
    "ds_lexicon = list(map(lambda row: modify_dict(row, \n",
    "                                              'Transcription', \n",
    "                                              '.'.join( row['Transcription'].split(' ') )),\n",
    "                      cmudict))\n",
    "ds_lexicon[:5]"
   ]
  },
  {
   "cell_type": "code",
   "execution_count": 25,
   "metadata": {
    "ExecuteTime": {
     "end_time": "2019-03-21T21:23:41.835148Z",
     "start_time": "2019-03-21T21:23:41.832065Z"
    }
   },
   "outputs": [],
   "source": [
    "def tupleToDottedString(pair): \n",
    "    return '.'.join(pair)\n",
    "\n",
    "def dottedStringToTuple(s): \n",
    "    return tuple(s.split('.'))\n",
    "\n",
    "t2ds = tupleToDottedString\n",
    "ds2t = dottedStringToTuple"
   ]
  },
  {
   "cell_type": "code",
   "execution_count": 26,
   "metadata": {
    "ExecuteTime": {
     "end_time": "2019-03-21T21:24:02.853138Z",
     "start_time": "2019-03-21T21:24:02.849837Z"
    }
   },
   "outputs": [
    {
     "data": {
      "text/plain": [
       "('AH1', 'N', 'K', 'W', 'OW1', 'T')"
      ]
     },
     "execution_count": 26,
     "metadata": {},
     "output_type": "execute_result"
    }
   ],
   "source": [
    "ds2t('AH1.N.K.W.OW1.T')"
   ]
  },
  {
   "cell_type": "markdown",
   "metadata": {},
   "source": [
    "# Convert ARPABET to IPA"
   ]
  },
  {
   "cell_type": "code",
   "execution_count": 27,
   "metadata": {
    "ExecuteTime": {
     "end_time": "2019-03-21T21:24:59.863069Z",
     "start_time": "2019-03-21T21:24:59.859992Z"
    }
   },
   "outputs": [],
   "source": [
    "from functools import reduce"
   ]
  },
  {
   "cell_type": "code",
   "execution_count": 30,
   "metadata": {
    "ExecuteTime": {
     "end_time": "2019-03-21T21:28:23.344729Z",
     "start_time": "2019-03-21T21:28:23.342651Z"
    }
   },
   "outputs": [],
   "source": [
    "def union(Ss):\n",
    "    return reduce(set.union, Ss)"
   ]
  },
  {
   "cell_type": "markdown",
   "metadata": {},
   "source": [
    "## Identify all ARPABET symbols in use in the data"
   ]
  },
  {
   "cell_type": "code",
   "execution_count": 29,
   "metadata": {
    "ExecuteTime": {
     "end_time": "2019-03-21T21:26:27.511254Z",
     "start_time": "2019-03-21T21:26:27.492133Z"
    }
   },
   "outputs": [
    {
     "data": {
      "text/plain": [
       "['EH2.K.S.K.L.AH0.M.EY1.SH.AH0.N.P.OY2.N.T',\n",
       " 'K.L.OW1.Z.K.W.OW1.T',\n",
       " 'D.AH1.B.AH0.L.K.W.OW1.T',\n",
       " 'EH1.N.D.AH0.V.K.W.OW1.T',\n",
       " 'EH1.N.D.K.W.OW1.T',\n",
       " 'IH1.N.K.W.OW1.T.S',\n",
       " 'K.W.OW1.T',\n",
       " 'AH1.N.K.W.OW1.T',\n",
       " 'HH.AE1.M.AA2.R.K',\n",
       " 'P.AW1.N.D.S.AY2.N']"
      ]
     },
     "execution_count": 29,
     "metadata": {},
     "output_type": "execute_result"
    }
   ],
   "source": [
    "transcriptions = list(map(lambda entry: entry['Transcription'],\n",
    "                          ds_lexicon))\n",
    "transcriptions[:10]"
   ]
  },
  {
   "cell_type": "code",
   "execution_count": 37,
   "metadata": {
    "ExecuteTime": {
     "end_time": "2019-03-21T21:31:38.147256Z",
     "start_time": "2019-03-21T21:31:37.691643Z"
    }
   },
   "outputs": [
    {
     "data": {
      "text/plain": [
       "69"
      ]
     },
     "execution_count": 37,
     "metadata": {},
     "output_type": "execute_result"
    },
    {
     "name": "stdout",
     "output_type": "stream",
     "text": [
      "{'IH1', 'IY0', 'S', 'EY2', 'AE0', 'AW1', 'AA0', 'ER1', 'UW0', 'UH2', 'AY1', 'F', 'DH', 'AE1', 'EH1', 'AH2', 'AE2', 'M', 'AW0', 'OW0', 'NG', 'EH0', 'L', 'G', 'SH', 'D', 'Z', 'T', 'AO2', 'R', 'EH2', 'OW1', 'ZH', 'ER0', 'AH0', 'AY2', 'AO1', 'UH0', 'AO0', 'IH2', 'B', 'JH', 'OY0', 'AY0', 'OY2', 'UH1', 'IY1', 'K', 'CH', 'UW1', 'P', 'TH', 'AA1', 'AA2', 'OY1', 'AH1', 'EY1', 'UW2', 'W', 'V', 'ER2', 'IH0', 'OW2', 'IY2', 'Y', 'N', 'HH', 'EY0', 'AW2'}\n"
     ]
    }
   ],
   "source": [
    "ARPABET_in_cmudict = union([set(t.split('.')) for t in transcriptions])\n",
    "len(ARPABET_in_cmudict)\n",
    "print(ARPABET_in_cmudict)"
   ]
  },
  {
   "cell_type": "code",
   "execution_count": 38,
   "metadata": {
    "ExecuteTime": {
     "end_time": "2019-03-21T21:32:01.830950Z",
     "start_time": "2019-03-21T21:32:01.821194Z"
    }
   },
   "outputs": [],
   "source": [
    "arpabetUnicodeIPArelation = set([ \\\n",
    "('AO', 'ɔ'),\n",
    "('AA', 'ɑ'),\n",
    "('IY', 'i'),\n",
    "('UW', 'u'),\n",
    "('EH', 'ɛ'),\n",
    "('IH', 'ɪ'),\n",
    "('UH', 'ʊ'),\n",
    "('AH', 'ʌ'),\n",
    "('AX', 'ə'),\n",
    "('AE', 'æ'),\n",
    "('EY', 'eɪ'),\n",
    "('AY', 'aɪ'),\n",
    "('OW', 'oʊ'),\n",
    "('AW', 'aʊ'),\n",
    "('OY', 'ɔɪ'),\n",
    "('ER', 'ɚ'),\n",
    "('P', 'p'),\n",
    "('B', 'b'),\n",
    "('T', 't'),\n",
    "('D', 'd'),\n",
    "('K', 'k'),\n",
    "('G', 'g'),\n",
    "('CH', 'tʃ'),\n",
    "('JH', 'dʒ'),\n",
    "('F', 'f'),\n",
    "('V', 'v'),\n",
    "('TH', 'θ'),\n",
    "('DH', 'ð'),\n",
    "('S', 's'),\n",
    "('Z', 'z'),\n",
    "('SH', 'ʃ'),\n",
    "('ZH', 'ʒ'),\n",
    "('HH', 'h'),\n",
    "('M', 'm'),\n",
    "('EM', 'm̩'),\n",
    "('N', 'n'),\n",
    "('EN', 'n̩'),\n",
    "('NG', 'ŋ'),\n",
    "('ENG', 'ŋ̩'),\n",
    "('L', 'l'),\n",
    "('EL', 'l̩'),\n",
    "('R', 'r'),\n",
    "('DX', 'ɾ'),\n",
    "('NX', 'ɾ̃'),\n",
    "('Y', 'j'),\n",
    "('W', 'w'),\n",
    "('Q', 'ʔ')\n",
    "])"
   ]
  },
  {
   "cell_type": "code",
   "execution_count": 42,
   "metadata": {
    "ExecuteTime": {
     "end_time": "2019-03-21T21:36:53.258114Z",
     "start_time": "2019-03-21T21:36:53.251406Z"
    }
   },
   "outputs": [
    {
     "data": {
      "text/plain": [
       "{'AA0',\n",
       " 'AA1',\n",
       " 'AA2',\n",
       " 'AE0',\n",
       " 'AE1',\n",
       " 'AE2',\n",
       " 'AH0',\n",
       " 'AH1',\n",
       " 'AH2',\n",
       " 'AO0',\n",
       " 'AO1',\n",
       " 'AO2',\n",
       " 'AW0',\n",
       " 'AW1',\n",
       " 'AW2',\n",
       " 'AY0',\n",
       " 'AY1',\n",
       " 'AY2',\n",
       " 'EH0',\n",
       " 'EH1',\n",
       " 'EH2',\n",
       " 'ER0',\n",
       " 'ER1',\n",
       " 'ER2',\n",
       " 'EY0',\n",
       " 'EY1',\n",
       " 'EY2',\n",
       " 'IH0',\n",
       " 'IH1',\n",
       " 'IH2',\n",
       " 'IY0',\n",
       " 'IY1',\n",
       " 'IY2',\n",
       " 'OW0',\n",
       " 'OW1',\n",
       " 'OW2',\n",
       " 'OY0',\n",
       " 'OY1',\n",
       " 'OY2',\n",
       " 'UH0',\n",
       " 'UH1',\n",
       " 'UH2',\n",
       " 'UW0',\n",
       " 'UW1',\n",
       " 'UW2'}"
      ]
     },
     "execution_count": 42,
     "metadata": {},
     "output_type": "execute_result"
    }
   ],
   "source": [
    "{symbol for symbol in ARPABET_in_cmudict if symbol not in set(map(lambda r: r[0],\n",
    "                                                                  arpabetUnicodeIPArelation))}"
   ]
  },
  {
   "cell_type": "code",
   "execution_count": 39,
   "metadata": {
    "ExecuteTime": {
     "end_time": "2019-03-21T21:32:44.423615Z",
     "start_time": "2019-03-21T21:32:44.417726Z"
    }
   },
   "outputs": [
    {
     "data": {
      "text/plain": [
       "'θ'"
      ]
     },
     "execution_count": 39,
     "metadata": {},
     "output_type": "execute_result"
    },
    {
     "data": {
      "text/plain": [
       "'TH'"
      ]
     },
     "execution_count": 39,
     "metadata": {},
     "output_type": "execute_result"
    }
   ],
   "source": [
    "def arpabetToUnicodeIPA(arpabetSymbol):\n",
    "    mapping = dict(arpabetUnicodeIPArelation)\n",
    "    #print(mapping)\n",
    "    return mapping[arpabetSymbol]\n",
    "arpabetToUnicodeIPA('TH')\n",
    "\n",
    "def invertMapping(mydict): \n",
    "    return dict([[val, key] for key,val in mydict.items()])\n",
    "def unicodeIPAToArpabet(unicodeIPAsymbol):\n",
    "    return invertMapping( dict(arpabetUnicodeIPArelation) )[unicodeIPAsymbol]\n",
    "unicodeIPAToArpabet('θ')"
   ]
  },
  {
   "cell_type": "code",
   "execution_count": 40,
   "metadata": {
    "ExecuteTime": {
     "end_time": "2019-03-21T21:33:18.066120Z",
     "start_time": "2019-03-21T21:33:18.057474Z"
    }
   },
   "outputs": [],
   "source": [
    "def IPAifyUnstressedRep(unstressedRep):\n",
    "    arpabetTuple = dottedStringToTuple( unstressedRep ) \n",
    "    \n",
    "    IPAtuple = tuple(list(map(arpabetToUnicodeIPA, arpabetTuple)))\n",
    "    \n",
    "    dottedIPAsymbols = tupleToDottedString( IPAtuple )\n",
    "    return dottedIPAsymbols\n",
    "\n",
    "def IPAifyStressedRep(stressedRep):\n",
    "    stressedArpabetTuple = dottedStringToTuple( stressedRep )\n",
    "\n",
    "    arpabetSymbols = [symb[:-1] if symb[-1] == '0' or symb[-1] == '1' or symb[-1] == '2' else symb[:] for symb in stressedArpabetTuple]\n",
    "    stresses = [symb[-1] if symb[-1] == '0' or symb[-1] == '1' or symb[-1] == '2' else '' for symb in stressedArpabetTuple]\n",
    "#     print('arpabetSymbols:')\n",
    "#     print(arpabetSymbols)\n",
    "#     print('stresses:')\n",
    "#     print(stresses)\n",
    "#     print('together:')\n",
    "    \n",
    "    IPAsymbols = list(map(arpabetToUnicodeIPA, arpabetSymbols))\n",
    "    stressedIPAtuple = tuple(map(lambda s01: s01[0] + s01[1], zip(IPAsymbols,stresses)))\n",
    "    \n",
    "    dottedStressedIPAsymbols = tupleToDottedString( stressedIPAtuple )\n",
    "    return dottedStressedIPAsymbols"
   ]
  },
  {
   "cell_type": "code",
   "execution_count": 41,
   "metadata": {
    "ExecuteTime": {
     "end_time": "2019-03-21T21:33:48.775188Z",
     "start_time": "2019-03-21T21:33:48.770259Z"
    }
   },
   "outputs": [
    {
     "data": {
      "text/plain": [
       "'ɛ2.k.s.k.l.ʌ0.m.eɪ1.ʃ.ʌ0.n.p.ɔɪ2.n.t'"
      ]
     },
     "execution_count": 41,
     "metadata": {},
     "output_type": "execute_result"
    }
   ],
   "source": [
    "IPAifyStressedRep('EH2.K.S.K.L.AH0.M.EY1.SH.AH0.N.P.OY2.N.T')"
   ]
  },
  {
   "cell_type": "code",
   "execution_count": null,
   "metadata": {},
   "outputs": [],
   "source": []
  }
 ],
 "metadata": {
  "kernelspec": {
   "display_name": "Python 3",
   "language": "python",
   "name": "python3"
  },
  "language_info": {
   "codemirror_mode": {
    "name": "ipython",
    "version": 3
   },
   "file_extension": ".py",
   "mimetype": "text/x-python",
   "name": "python",
   "nbconvert_exporter": "python",
   "pygments_lexer": "ipython3",
   "version": "3.6.8"
  },
  "toc": {
   "base_numbering": 1,
   "nav_menu": {},
   "number_sections": true,
   "sideBar": true,
   "skip_h1_title": false,
   "title_cell": "Table of Contents",
   "title_sidebar": "Contents",
   "toc_cell": false,
   "toc_position": {},
   "toc_section_display": true,
   "toc_window_display": false
  }
 },
 "nbformat": 4,
 "nbformat_minor": 2
}
